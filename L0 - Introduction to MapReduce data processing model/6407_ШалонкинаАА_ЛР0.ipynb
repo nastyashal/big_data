{
  "cells": [
    {
      "cell_type": "markdown",
      "metadata": {
        "id": "82OvPKEiEqjc"
      },
      "source": [
        "# Введение в MapReduce модель на Python\n"
      ]
    },
    {
      "cell_type": "code",
      "execution_count": 220,
      "metadata": {
        "id": "JQ2cvXLjICmI"
      },
      "outputs": [],
      "source": [
        "from typing import NamedTuple # requires python 3.6+\n",
        "from typing import Iterator\n",
        "from typing import Tuple"
      ]
    },
    {
      "cell_type": "code",
      "execution_count": 221,
      "metadata": {
        "id": "yjPHumVwEyEg"
      },
      "outputs": [],
      "source": [
        "def MAP(_, row:NamedTuple):\n",
        "  if (row.gender == 'female'):\n",
        "    yield (row.age, row)\n",
        "\n",
        "def REDUCE(age:str, rows:Iterator[NamedTuple]):\n",
        "  sum = 0\n",
        "  count = 0\n",
        "  for row in rows:\n",
        "    sum += row.social_contacts\n",
        "    count += 1\n",
        "  if (count > 0):\n",
        "    yield (age, sum/count)\n",
        "  else:\n",
        "    yield (age, 0)"
      ]
    },
    {
      "cell_type": "markdown",
      "metadata": {
        "id": "vBKMgpG_ilaZ"
      },
      "source": [
        "Модель элемента данных"
      ]
    },
    {
      "cell_type": "code",
      "execution_count": 222,
      "metadata": {
        "id": "Rv-XIjhTJPx3"
      },
      "outputs": [],
      "source": [
        "class User(NamedTuple):\n",
        "  id: int\n",
        "  age: str\n",
        "  social_contacts: int\n",
        "  gender: str"
      ]
    },
    {
      "cell_type": "code",
      "execution_count": 223,
      "metadata": {
        "id": "5KV0Ze2vQgu5"
      },
      "outputs": [],
      "source": [
        "input_collection = [\n",
        "    User(id=0, age=55, gender='male', social_contacts=20),\n",
        "    User(id=1, age=25, gender='female', social_contacts=240),\n",
        "    User(id=2, age=25, gender='female', social_contacts=500),\n",
        "    User(id=3, age=33, gender='female', social_contacts=800)\n",
        "]"
      ]
    },
    {
      "cell_type": "markdown",
      "metadata": {
        "id": "YFeqzyZxZIFZ"
      },
      "source": [
        "Функция RECORDREADER моделирует чтение элементов с диска или по сети."
      ]
    },
    {
      "cell_type": "code",
      "execution_count": 224,
      "metadata": {
        "id": "S5HR4E_GQoMJ"
      },
      "outputs": [],
      "source": [
        "def RECORDREADER():\n",
        "  return [(u.id, u) for u in input_collection]"
      ]
    },
    {
      "cell_type": "code",
      "execution_count": 225,
      "metadata": {
        "colab": {
          "base_uri": "https://localhost:8080/"
        },
        "id": "NeEoWla-ROUy",
        "outputId": "420f4fa7-62d1-4082-92f2-f0d22a0ee86c"
      },
      "outputs": [
        {
          "output_type": "execute_result",
          "data": {
            "text/plain": [
              "[(0, User(id=0, age=55, social_contacts=20, gender='male')),\n",
              " (1, User(id=1, age=25, social_contacts=240, gender='female')),\n",
              " (2, User(id=2, age=25, social_contacts=500, gender='female')),\n",
              " (3, User(id=3, age=33, social_contacts=800, gender='female'))]"
            ]
          },
          "metadata": {},
          "execution_count": 225
        }
      ],
      "source": [
        "list(RECORDREADER())"
      ]
    },
    {
      "cell_type": "code",
      "execution_count": 226,
      "metadata": {
        "id": "YB8orgPSZs8M"
      },
      "outputs": [],
      "source": [
        "def flatten(nested_iterable):\n",
        "  for iterable in nested_iterable:\n",
        "    for element in iterable:\n",
        "      yield element"
      ]
    },
    {
      "cell_type": "code",
      "execution_count": 227,
      "metadata": {
        "colab": {
          "base_uri": "https://localhost:8080/"
        },
        "id": "74oyvDLaRmd5",
        "outputId": "0d9b46cb-2524-4c30-c44f-08481fdcd239"
      },
      "outputs": [
        {
          "output_type": "execute_result",
          "data": {
            "text/plain": [
              "[(25, User(id=1, age=25, social_contacts=240, gender='female')),\n",
              " (25, User(id=2, age=25, social_contacts=500, gender='female')),\n",
              " (33, User(id=3, age=33, social_contacts=800, gender='female'))]"
            ]
          },
          "metadata": {},
          "execution_count": 227
        }
      ],
      "source": [
        "map_output = flatten(map(lambda x: MAP(*x), RECORDREADER()))\n",
        "map_output = list(map_output) # materialize\n",
        "map_output"
      ]
    },
    {
      "cell_type": "code",
      "execution_count": 228,
      "metadata": {
        "id": "8ncYDJ3-VzDn"
      },
      "outputs": [],
      "source": [
        "def groupbykey(iterable):\n",
        "  t = {}\n",
        "  for (k2, v2) in iterable:\n",
        "    t[k2] = t.get(k2, []) + [v2]\n",
        "  return t.items()"
      ]
    },
    {
      "cell_type": "code",
      "execution_count": 229,
      "metadata": {
        "colab": {
          "base_uri": "https://localhost:8080/"
        },
        "id": "cKzY_6COWOA2",
        "outputId": "34c4db94-e020-4233-a2d3-adf5e75b65b9"
      },
      "outputs": [
        {
          "output_type": "execute_result",
          "data": {
            "text/plain": [
              "[(25,\n",
              "  [User(id=1, age=25, social_contacts=240, gender='female'),\n",
              "   User(id=2, age=25, social_contacts=500, gender='female')]),\n",
              " (33, [User(id=3, age=33, social_contacts=800, gender='female')])]"
            ]
          },
          "metadata": {},
          "execution_count": 229
        }
      ],
      "source": [
        "shuffle_output = groupbykey(map_output)\n",
        "shuffle_output = list(shuffle_output)\n",
        "shuffle_output"
      ]
    },
    {
      "cell_type": "code",
      "execution_count": 230,
      "metadata": {
        "colab": {
          "base_uri": "https://localhost:8080/"
        },
        "id": "NlA7lkDDYL0t",
        "outputId": "bd92ce58-26d7-4316-c489-d9d97e01cb51"
      },
      "outputs": [
        {
          "output_type": "execute_result",
          "data": {
            "text/plain": [
              "[(25, 370.0), (33, 800.0)]"
            ]
          },
          "metadata": {},
          "execution_count": 230
        }
      ],
      "source": [
        "reduce_output = flatten(map(lambda x: REDUCE(*x), shuffle_output))\n",
        "reduce_output = list(reduce_output)\n",
        "reduce_output"
      ]
    },
    {
      "cell_type": "markdown",
      "metadata": {
        "id": "xf6qhHEtd6bI"
      },
      "source": [
        "Все действия одним конвейером!"
      ]
    },
    {
      "cell_type": "code",
      "execution_count": 231,
      "metadata": {
        "colab": {
          "base_uri": "https://localhost:8080/"
        },
        "id": "dZaQGYxCdpw5",
        "outputId": "f6f1fedc-c350-4c5f-f1d2-c177fa908167"
      },
      "outputs": [
        {
          "output_type": "execute_result",
          "data": {
            "text/plain": [
              "[(25, 370.0), (33, 800.0)]"
            ]
          },
          "metadata": {},
          "execution_count": 231
        }
      ],
      "source": [
        "list(flatten(map(lambda x: REDUCE(*x), groupbykey(flatten(map(lambda x: MAP(*x), RECORDREADER()))))))"
      ]
    },
    {
      "cell_type": "markdown",
      "metadata": {
        "id": "Vq3EWRIpwSiJ"
      },
      "source": [
        "# **MapReduce**\n",
        "Выделим общую для всех пользователей часть системы в отдельную функцию высшего порядка. Это наиболее простая модель MapReduce, без учёта распределённого хранения данных.\n",
        "\n",
        "Пользователь для решения своей задачи реализует RECORDREADER, MAP, REDUCE."
      ]
    },
    {
      "cell_type": "code",
      "execution_count": 232,
      "metadata": {
        "id": "V1PZeQMwwVjc"
      },
      "outputs": [],
      "source": [
        "def flatten(nested_iterable):\n",
        "  for iterable in nested_iterable:\n",
        "    for element in iterable:\n",
        "      yield element\n",
        "\n",
        "def groupbykey(iterable):\n",
        "  t = {}\n",
        "  for (k2, v2) in iterable:\n",
        "    t[k2] = t.get(k2, []) + [v2]\n",
        "  return t.items()\n",
        "\n",
        "def MapReduce(RECORDREADER, MAP, REDUCE):\n",
        "  return flatten(map(lambda x: REDUCE(*x), groupbykey(flatten(map(lambda x: MAP(*x), RECORDREADER())))))"
      ]
    },
    {
      "cell_type": "markdown",
      "metadata": {
        "id": "iFIVrimep678"
      },
      "source": [
        "## Спецификация MapReduce\n",
        "\n",
        "\n",
        "\n",
        "```\n",
        "f (k1, v1) -> (k2,v2)*\n",
        "g (k2, v2*) -> (k3,v3)*\n",
        "\n",
        "mapreduce ((k1,v1)*) -> (k3,v3)*\n",
        "groupby ((k2,v2)*) -> (k2,v2*)*\n",
        "flatten (e2**) -> e2*\n",
        "\n",
        "mapreduce .map(f).flatten.groupby(k2).map(g).flatten\n",
        "```\n",
        "\n",
        "\n"
      ]
    },
    {
      "cell_type": "markdown",
      "metadata": {
        "id": "QtTFyqke3KGe"
      },
      "source": [
        "# Примеры"
      ]
    },
    {
      "cell_type": "markdown",
      "metadata": {
        "id": "BNhh5763w5Vn"
      },
      "source": [
        "## SQL"
      ]
    },
    {
      "cell_type": "code",
      "execution_count": 233,
      "metadata": {
        "colab": {
          "base_uri": "https://localhost:8080/"
        },
        "id": "QkyurnvGxBGk",
        "outputId": "0bc39898-8fd8-449d-8c65-c8389a1dc111"
      },
      "outputs": [
        {
          "output_type": "execute_result",
          "data": {
            "text/plain": [
              "[(25, 370.0), (33, 800.0)]"
            ]
          },
          "metadata": {},
          "execution_count": 233
        }
      ],
      "source": [
        "from typing import NamedTuple # requires python 3.6+\n",
        "from typing import Iterator\n",
        "\n",
        "class User(NamedTuple):\n",
        "  id: int\n",
        "  age: str\n",
        "  social_contacts: int\n",
        "  gender: str\n",
        "\n",
        "input_collection = [\n",
        "    User(id=0, age=55, gender='male', social_contacts=20),\n",
        "    User(id=1, age=25, gender='female', social_contacts=240),\n",
        "    User(id=2, age=25, gender='female', social_contacts=500),\n",
        "    User(id=3, age=33, gender='female', social_contacts=800)\n",
        "]\n",
        "\n",
        "def MAP(_, row:NamedTuple):\n",
        "  if (row.gender == 'female'):\n",
        "    yield (row.age, row)\n",
        "\n",
        "def REDUCE(age:str, rows:Iterator[NamedTuple]):\n",
        "  sum = 0\n",
        "  count = 0\n",
        "  for row in rows:\n",
        "    sum += row.social_contacts\n",
        "    count += 1\n",
        "  if (count > 0):\n",
        "    yield (age, sum/count)\n",
        "  else:\n",
        "    yield (age, 0)\n",
        "\n",
        "def RECORDREADER():\n",
        "  return [(u.id, u) for u in input_collection]\n",
        "\n",
        "output = MapReduce(RECORDREADER, MAP, REDUCE)\n",
        "output = list(output)\n",
        "output"
      ]
    },
    {
      "cell_type": "markdown",
      "metadata": {
        "id": "kNKYIeerx0nY"
      },
      "source": [
        "## Matrix-Vector multiplication"
      ]
    },
    {
      "cell_type": "code",
      "execution_count": 234,
      "metadata": {
        "colab": {
          "base_uri": "https://localhost:8080/"
        },
        "id": "rwcntRcCyi1V",
        "outputId": "6c858897-36fb-4f29-d308-e5973a105ef6"
      },
      "outputs": [
        {
          "output_type": "execute_result",
          "data": {
            "text/plain": [
              "[(0, 2.8374710249937953),\n",
              " (1, 2.8374710249937953),\n",
              " (2, 2.8374710249937953),\n",
              " (3, 2.8374710249937953),\n",
              " (4, 2.8374710249937953)]"
            ]
          },
          "metadata": {},
          "execution_count": 234
        }
      ],
      "source": [
        "from typing import Iterator\n",
        "import numpy as np\n",
        "\n",
        "mat = np.ones((5,4))\n",
        "vec = np.random.rand(4) # in-memory vector in all map tasks\n",
        "\n",
        "def MAP(coordinates:Tuple[int, int], value:int):\n",
        "  i, j = coordinates\n",
        "  yield (i, value*vec[j])\n",
        "\n",
        "def REDUCE(i:int, products:Iterator[NamedTuple]):\n",
        "  sum = 0\n",
        "  for p in products:\n",
        "    sum += p\n",
        "  yield (i, sum)\n",
        "\n",
        "def RECORDREADER():\n",
        "  for i in range(mat.shape[0]):\n",
        "    for j in range(mat.shape[1]):\n",
        "      yield ((i, j), mat[i,j])\n",
        "\n",
        "output = MapReduce(RECORDREADER, MAP, REDUCE)\n",
        "output = list(output)\n",
        "output"
      ]
    },
    {
      "cell_type": "markdown",
      "metadata": {
        "id": "ruZREYdi2o4O"
      },
      "source": [
        "## Inverted index"
      ]
    },
    {
      "cell_type": "code",
      "execution_count": 235,
      "metadata": {
        "colab": {
          "base_uri": "https://localhost:8080/"
        },
        "id": "vt9H9Alf3TYv",
        "outputId": "507dda6d-42a6-4147-cb41-8d614dfcfff0"
      },
      "outputs": [
        {
          "output_type": "execute_result",
          "data": {
            "text/plain": [
              "[('it', ['0', '1', '2']),\n",
              " ('what', ['0', '1']),\n",
              " ('is', ['0', '1', '2']),\n",
              " ('a', ['2']),\n",
              " ('banana', ['2'])]"
            ]
          },
          "metadata": {},
          "execution_count": 235
        }
      ],
      "source": [
        "from typing import Iterator\n",
        "\n",
        "d1 = \"it is what it is\"\n",
        "d2 = \"what is it\"\n",
        "d3 = \"it is a banana\"\n",
        "documents = [d1, d2, d3]\n",
        "\n",
        "def RECORDREADER():\n",
        "  for (docid, document) in enumerate(documents):\n",
        "    yield (\"{}\".format(docid), document)\n",
        "\n",
        "def MAP(docId:str, body:str):\n",
        "  for word in set(body.split(' ')):\n",
        "    yield (word, docId)\n",
        "\n",
        "def REDUCE(word:str, docIds:Iterator[str]):\n",
        "  yield (word, sorted(docIds))\n",
        "\n",
        "output = MapReduce(RECORDREADER, MAP, REDUCE)\n",
        "output = list(output)\n",
        "output"
      ]
    },
    {
      "cell_type": "markdown",
      "metadata": {
        "id": "R7az-6DA6qr2"
      },
      "source": [
        "## WordCount"
      ]
    },
    {
      "cell_type": "code",
      "execution_count": 236,
      "metadata": {
        "colab": {
          "base_uri": "https://localhost:8080/"
        },
        "id": "dN-nbtgG6uYG",
        "outputId": "8469217a-b5da-4e41-ac81-696604255cce"
      },
      "outputs": [
        {
          "output_type": "execute_result",
          "data": {
            "text/plain": [
              "[('', 3), ('it', 9), ('is', 9), ('what', 5), ('a', 1), ('banana', 1)]"
            ]
          },
          "metadata": {},
          "execution_count": 236
        }
      ],
      "source": [
        "from typing import Iterator\n",
        "\n",
        "d1 = \"\"\"\n",
        "it is what it is\n",
        "it is what it is\n",
        "it is what it is\"\"\"\n",
        "d2 = \"\"\"\n",
        "what is it\n",
        "what is it\"\"\"\n",
        "d3 = \"\"\"\n",
        "it is a banana\"\"\"\n",
        "documents = [d1, d2, d3]\n",
        "\n",
        "def RECORDREADER():\n",
        "  for (docid, document) in enumerate(documents):\n",
        "    for (lineid, line) in enumerate(document.split('\\n')):\n",
        "      yield (\"{}:{}\".format(docid,lineid), line)\n",
        "\n",
        "def MAP(docId:str, line:str):\n",
        "  for word in line.split(\" \"):\n",
        "    yield (word, 1)\n",
        "\n",
        "def REDUCE(word:str, counts:Iterator[int]):\n",
        "  sum = 0\n",
        "  for c in counts:\n",
        "    sum += c\n",
        "  yield (word, sum)\n",
        "\n",
        "output = MapReduce(RECORDREADER, MAP, REDUCE)\n",
        "output = list(output)\n",
        "output"
      ]
    },
    {
      "cell_type": "markdown",
      "metadata": {
        "id": "h-jRAcYCAkkk"
      },
      "source": [
        "# MapReduce Distributed\n",
        "\n",
        "Добавляется в модель фабрика RECORDREARER-ов --- INPUTFORMAT, функция распределения промежуточных результатов по партициям PARTITIONER, и функция COMBINER для частичной аггрегации промежуточных результатов до распределения по новым партициям."
      ]
    },
    {
      "cell_type": "code",
      "execution_count": 237,
      "metadata": {
        "id": "nw-b-xJsApgW"
      },
      "outputs": [],
      "source": [
        "def flatten(nested_iterable):\n",
        "  for iterable in nested_iterable:\n",
        "    for element in iterable:\n",
        "      yield element\n",
        "\n",
        "def groupbykey(iterable):\n",
        "  t = {}\n",
        "  for (k2, v2) in iterable:\n",
        "    t[k2] = t.get(k2, []) + [v2]\n",
        "  return t.items()\n",
        "\n",
        "def groupbykey_distributed(map_partitions, PARTITIONER):\n",
        "  global reducers\n",
        "  partitions = [dict() for _ in range(reducers)]\n",
        "  for map_partition in map_partitions:\n",
        "    for (k2, v2) in map_partition:\n",
        "      p = partitions[PARTITIONER(k2)]\n",
        "      p[k2] = p.get(k2, []) + [v2]\n",
        "  return [(partition_id, sorted(partition.items(), key=lambda x: x[0])) for (partition_id, partition) in enumerate(partitions)]\n",
        "\n",
        "def PARTITIONER(obj):\n",
        "  global reducers\n",
        "  return hash(obj) % reducers\n",
        "\n",
        "def MapReduceDistributed(INPUTFORMAT, MAP, REDUCE, PARTITIONER=PARTITIONER, COMBINER=None):\n",
        "  map_partitions = map(lambda record_reader: flatten(map(lambda k1v1: MAP(*k1v1), record_reader)), INPUTFORMAT())\n",
        "  if COMBINER != None:\n",
        "    map_partitions = map(lambda map_partition: flatten(map(lambda k2v2: COMBINER(*k2v2), groupbykey(map_partition))), map_partitions)\n",
        "  reduce_partitions = groupbykey_distributed(map_partitions, PARTITIONER) # shuffle\n",
        "  reduce_outputs = map(lambda reduce_partition: (reduce_partition[0], flatten(map(lambda reduce_input_group: REDUCE(*reduce_input_group), reduce_partition[1]))), reduce_partitions)\n",
        "\n",
        "  print(\"{} key-value pairs were sent over a network.\".format(sum([len(vs) for (k,vs) in flatten([partition for (partition_id, partition) in reduce_partitions])])))\n",
        "  return reduce_outputs"
      ]
    },
    {
      "cell_type": "markdown",
      "metadata": {
        "id": "kxirlf3XqZxY"
      },
      "source": [
        "## Спецификация MapReduce Distributed\n",
        "\n",
        "\n",
        "```\n",
        "f (k1, v1) -> (k2,v2)*\n",
        "g (k2, v2*) -> (k3,v3)*\n",
        "\n",
        "e1 (k1, v1)\n",
        "e2 (k2, v2)\n",
        "partition1 (k2, v2)*\n",
        "partition2 (k2, v2*)*\n",
        "\n",
        "flatmap (e1->e2*, e1*) -> partition1*\n",
        "groupby (partition1*) -> partition2*\n",
        "\n",
        "mapreduce ((k1,v1)*) -> (k3,v3)*\n",
        "mapreduce .flatmap(f).groupby(k2).flatmap(g)\n",
        "```\n",
        "\n"
      ]
    },
    {
      "cell_type": "markdown",
      "metadata": {
        "id": "CWYw_CpbbY3C"
      },
      "source": [
        "## WordCount"
      ]
    },
    {
      "cell_type": "code",
      "execution_count": 238,
      "metadata": {
        "colab": {
          "base_uri": "https://localhost:8080/"
        },
        "id": "uR_zfGFkMZlp",
        "outputId": "6d9b0198-08af-40f2-c066-580aa9dd26f7"
      },
      "outputs": [
        {
          "output_type": "stream",
          "name": "stdout",
          "text": [
            "56 key-value pairs were sent over a network.\n"
          ]
        },
        {
          "output_type": "execute_result",
          "data": {
            "text/plain": [
              "[(0, [('', 6), ('a', 2), ('banana', 2), ('what', 10)]),\n",
              " (1, [('is', 18), ('it', 18)])]"
            ]
          },
          "metadata": {},
          "execution_count": 238
        }
      ],
      "source": [
        "from typing import Iterator\n",
        "import numpy as np\n",
        "\n",
        "d1 = \"\"\"\n",
        "it is what it is\n",
        "it is what it is\n",
        "it is what it is\"\"\"\n",
        "d2 = \"\"\"\n",
        "what is it\n",
        "what is it\"\"\"\n",
        "d3 = \"\"\"\n",
        "it is a banana\"\"\"\n",
        "documents = [d1, d2, d3, d1, d2, d3]\n",
        "\n",
        "maps = 3\n",
        "reducers = 2\n",
        "\n",
        "def INPUTFORMAT():\n",
        "  global maps\n",
        "\n",
        "  def RECORDREADER(split):\n",
        "    for (docid, document) in enumerate(split):\n",
        "      for (lineid, line) in enumerate(document.split('\\n')):\n",
        "        yield (\"{}:{}\".format(docid,lineid), line)\n",
        "\n",
        "  split_size =  int(np.ceil(len(documents)/maps))\n",
        "  for i in range(0, len(documents), split_size):\n",
        "    yield RECORDREADER(documents[i:i+split_size])\n",
        "\n",
        "def MAP(docId:str, line:str):\n",
        "  for word in line.split(\" \"):\n",
        "    yield (word, 1)\n",
        "\n",
        "def REDUCE(word:str, counts:Iterator[int]):\n",
        "  sum = 0\n",
        "  for c in counts:\n",
        "    sum += c\n",
        "  yield (word, sum)\n",
        "\n",
        "# try to set COMBINER=REDUCER and look at the number of values sent over the network\n",
        "partitioned_output = MapReduceDistributed(INPUTFORMAT, MAP, REDUCE, COMBINER=None)\n",
        "partitioned_output = [(partition_id, list(partition)) for (partition_id, partition) in partitioned_output]\n",
        "partitioned_output"
      ]
    },
    {
      "cell_type": "markdown",
      "metadata": {
        "id": "gCJGx8IQ87xS"
      },
      "source": [
        "## TeraSort"
      ]
    },
    {
      "cell_type": "code",
      "execution_count": 239,
      "metadata": {
        "colab": {
          "base_uri": "https://localhost:8080/"
        },
        "id": "P2v8v1v_8_YR",
        "outputId": "5946a0c9-c04d-4cd7-ed23-1d2adde203a8"
      },
      "outputs": [
        {
          "output_type": "stream",
          "name": "stdout",
          "text": [
            "30 key-value pairs were sent over a network.\n"
          ]
        },
        {
          "output_type": "execute_result",
          "data": {
            "text/plain": [
              "[(0,\n",
              "  [(None, 0.06095658700826112),\n",
              "   (None, 0.0863496398146224),\n",
              "   (None, 0.09521722784637499),\n",
              "   (None, 0.1666996303873307),\n",
              "   (None, 0.18133574520481843),\n",
              "   (None, 0.1879313016507892),\n",
              "   (None, 0.20127689732563037),\n",
              "   (None, 0.22832441776804213),\n",
              "   (None, 0.23548800006075965),\n",
              "   (None, 0.25237368142863226),\n",
              "   (None, 0.3491799575588179),\n",
              "   (None, 0.3509678615484173),\n",
              "   (None, 0.3884499772471762),\n",
              "   (None, 0.40298107499528746),\n",
              "   (None, 0.42582101849416587),\n",
              "   (None, 0.48443393323211625)]),\n",
              " (1,\n",
              "  [(None, 0.522280177823869),\n",
              "   (None, 0.5295698913728004),\n",
              "   (None, 0.5594906379672491),\n",
              "   (None, 0.58816446774115),\n",
              "   (None, 0.676657052928589),\n",
              "   (None, 0.7073949405729778),\n",
              "   (None, 0.7186911485435318),\n",
              "   (None, 0.7353293958023948),\n",
              "   (None, 0.9034014363261194),\n",
              "   (None, 0.9175936009920382),\n",
              "   (None, 0.9205478295027948),\n",
              "   (None, 0.9643873629149502),\n",
              "   (None, 0.9728681686274776),\n",
              "   (None, 0.986492911790168)])]"
            ]
          },
          "metadata": {},
          "execution_count": 239
        }
      ],
      "source": [
        "import numpy as np\n",
        "\n",
        "input_values = np.random.rand(30)\n",
        "maps = 3\n",
        "reducers = 2\n",
        "min_value = 0.0\n",
        "max_value = 1.0\n",
        "\n",
        "def INPUTFORMAT():\n",
        "  global maps\n",
        "\n",
        "  def RECORDREADER(split):\n",
        "    for value in split:\n",
        "        yield (value, None)\n",
        "\n",
        "  split_size =  int(np.ceil(len(input_values)/maps))\n",
        "  for i in range(0, len(input_values), split_size):\n",
        "    yield RECORDREADER(input_values[i:i+split_size])\n",
        "\n",
        "def MAP(value:int, _):\n",
        "  yield (value, None)\n",
        "\n",
        "def PARTITIONER(key):\n",
        "  global reducers\n",
        "  global max_value\n",
        "  global min_value\n",
        "  bucket_size = (max_value-min_value)/reducers\n",
        "  bucket_id = 0\n",
        "  while((key>(bucket_id+1)*bucket_size) and ((bucket_id+1)*bucket_size<max_value)):\n",
        "    bucket_id += 1\n",
        "  return bucket_id\n",
        "\n",
        "def REDUCE(value:int, _):\n",
        "  yield (None,value)\n",
        "\n",
        "partitioned_output = MapReduceDistributed(INPUTFORMAT, MAP, REDUCE, COMBINER=None, PARTITIONER=PARTITIONER)\n",
        "partitioned_output = [(partition_id, list(partition)) for (partition_id, partition) in partitioned_output]\n",
        "partitioned_output"
      ]
    },
    {
      "cell_type": "markdown",
      "metadata": {
        "id": "Iy65YJTH99iT"
      },
      "source": [
        "# Упражнения\n",
        "Упражнения взяты из Rajaraman A., Ullman J. D. Mining of massive datasets. – Cambridge University Press, 2011.\n",
        "\n",
        "\n",
        "Для выполнения заданий переопределите функции RECORDREADER, MAP, REDUCE. Для модели распределённой системы может потребоваться переопределение функций PARTITION и COMBINER."
      ]
    },
    {
      "cell_type": "markdown",
      "metadata": {
        "id": "cfvAeZm3S8S8"
      },
      "source": [
        "### Максимальное значение ряда\n",
        "\n",
        "Разработайте MapReduce алгоритм, который находит максимальное число входного списка чисел."
      ]
    },
    {
      "cell_type": "code",
      "execution_count": 240,
      "metadata": {
        "colab": {
          "base_uri": "https://localhost:8080/"
        },
        "id": "3GRA1JR-Tkbg",
        "outputId": "cb71db78-e8dd-40df-d100-b723a087c8c6"
      },
      "outputs": [
        {
          "output_type": "stream",
          "name": "stdout",
          "text": [
            "Максимальное число в списке: [66]\n"
          ]
        }
      ],
      "source": [
        "from typing import List\n",
        "from typing import Iterator\n",
        "\n",
        "def MAP(key: int, value: int):\n",
        "  yield (1, value)\n",
        "\n",
        "def REDUCE(key: int, row: List[int]):\n",
        "  yield max(row)\n",
        "\n",
        "def RECORDREADER():\n",
        "  data = [(1, 15), (2, 25), (3, 66), (4, 35), (5, 50)]\n",
        "  return data\n",
        "\n",
        "output = list(MapReduce(RECORDREADER, MAP, REDUCE))\n",
        "print(\"Максимальное число в списке:\", output)"
      ]
    },
    {
      "cell_type": "markdown",
      "metadata": {
        "id": "k86bXnqZTk-U"
      },
      "source": [
        "### Арифметическое среднее\n",
        "\n",
        "Разработайте MapReduce алгоритм, который находит арифметическое среднее.\n",
        "\n",
        "$$\\overline{X} = \\frac{1}{n}\\sum_{i=0}^{n} x_i$$\n"
      ]
    },
    {
      "cell_type": "code",
      "execution_count": 241,
      "metadata": {
        "colab": {
          "base_uri": "https://localhost:8080/"
        },
        "id": "MPoY5pkfUNZf",
        "outputId": "12782e04-ff8c-4812-d67e-c5fbbd498cbb"
      },
      "outputs": [
        {
          "output_type": "stream",
          "name": "stdout",
          "text": [
            "Арифметическое среднее: [38.2]\n"
          ]
        }
      ],
      "source": [
        "from typing import List\n",
        "from typing import Iterator\n",
        "\n",
        "def MAP(key: int, value: int):\n",
        "  yield (1, value)\n",
        "\n",
        "def REDUCE(key: int, row: List[int]):\n",
        "  yield sum(row) / len(row)\n",
        "\n",
        "def RECORDREADER():\n",
        "  data = [(1, 15), (2, 25), (3, 66), (4, 35), (5, 50)]\n",
        "  return data\n",
        "\n",
        "output = list(MapReduce(RECORDREADER, MAP, REDUCE))\n",
        "print(\"Арифметическое среднее:\", output)"
      ]
    },
    {
      "cell_type": "markdown",
      "metadata": {
        "id": "xanzszhsIlLe"
      },
      "source": [
        "### GroupByKey на основе сортировки\n",
        "\n",
        "Реализуйте groupByKey на основе сортировки, проверьте его работу на примерах"
      ]
    },
    {
      "cell_type": "code",
      "execution_count": 242,
      "metadata": {
        "colab": {
          "base_uri": "https://localhost:8080/"
        },
        "id": "hQPn3USsIkEC",
        "outputId": "e96ad898-badc-4d01-c489-12e7243c42a5"
      },
      "outputs": [
        {
          "output_type": "stream",
          "name": "stdout",
          "text": [
            "Группируем значения по ключу:\n",
            "Key: 1, Values: [9, 174, 26, 48, 0, 190, 123, 65, 154, 7]\n",
            "\n",
            "Группируем значения по ключу, а затем сортируем их:\n",
            "Key: 1, Values: [6, 13, 31, 40, 64, 68, 88, 118, 131, 164]\n"
          ]
        }
      ],
      "source": [
        "from typing import List\n",
        "from typing import Iterator\n",
        "import numpy as np\n",
        "\n",
        "n = 10\n",
        "\n",
        "def MAP(key: int, value: int):\n",
        "    yield (1, value)\n",
        "\n",
        "def RECORDREADER():\n",
        "    return ((index, num) for index, num in enumerate(np.random.randint(200, size=n)))\n",
        "\n",
        "def group_by_key_sorted(iterable):\n",
        "    result = {}\n",
        "    for key, value in iterable:\n",
        "        result[key] = sorted(result.get(key, []) + [value])\n",
        "    return result.items()\n",
        "\n",
        "output1 = groupbykey((key, value) for x in RECORDREADER() for key, value in MAP(*x))\n",
        "output2 = group_by_key_sorted((key, value) for x in RECORDREADER() for key, value in MAP(*x))\n",
        "\n",
        "print(\"Группируем значения по ключу:\")\n",
        "for key, value in output1:\n",
        "    print(f\"Key: {key}, Values: {value}\")\n",
        "\n",
        "print(\"\\nГруппируем значения по ключу, а затем сортируем их:\")\n",
        "for key, value in output2:\n",
        "    print(f\"Key: {key}, Values: {value}\")\n"
      ]
    },
    {
      "cell_type": "markdown",
      "metadata": {
        "id": "5SgEjCZyGnu6"
      },
      "source": [
        "### Drop duplicates (set construction, unique elements, distinct)\n",
        "\n",
        "Реализуйте распределённую операцию исключения дубликатов"
      ]
    },
    {
      "cell_type": "code",
      "execution_count": 243,
      "metadata": {
        "colab": {
          "base_uri": "https://localhost:8080/"
        },
        "id": "okjbyApjGhMt",
        "outputId": "5b070e0a-0242-46d5-8211-3572c8a0a5e9"
      },
      "outputs": [
        {
          "output_type": "stream",
          "name": "stdout",
          "text": [
            "Отсортированный список без дубликатов: [10, 15, 25, 35, 50, 66, 90, 150]\n"
          ]
        }
      ],
      "source": [
        "from typing import List\n",
        "from typing import Iterator\n",
        "\n",
        "def MAP(key: int, value: int):\n",
        "  yield (value, value)\n",
        "\n",
        "def REDUCE(key: int, row: List[int]):\n",
        "  yield key\n",
        "\n",
        "def RECORDREADER():\n",
        "  data = [(1, 15), (2, 25), (3, 66), (4, 35), (5, 50), (6, 50), (7, 15), (8, 90), (9, 10), (10, 150)]\n",
        "  return data\n",
        "\n",
        "output = list(sorted(MapReduce(RECORDREADER, MAP, REDUCE)))\n",
        "print(\"Отсортированный список без дубликатов:\", output)"
      ]
    },
    {
      "cell_type": "markdown",
      "metadata": {
        "id": "e7sRGoTXuJze"
      },
      "source": [
        "#Операторы реляционной алгебры\n",
        "### Selection (Выборка)\n",
        "\n",
        "**The Map Function**: Для  каждого кортежа $t \\in R$ вычисляется истинность предиката $C$. В случае истины создаётся пара ключ-значение $(t, t)$. В паре ключ и значение одинаковы, равны $t$.\n",
        "\n",
        "**The Reduce Function:** Роль функции Reduce выполняет функция идентичности, которая возвращает то же значение, что получила на вход.\n",
        "\n"
      ]
    },
    {
      "cell_type": "code",
      "execution_count": 267,
      "metadata": {
        "colab": {
          "base_uri": "https://localhost:8080/"
        },
        "id": "4nKIKe59uIfc",
        "outputId": "815839ab-9094-4d5c-ec5e-6780994d995d"
      },
      "outputs": [
        {
          "output_type": "stream",
          "name": "stdout",
          "text": [
            "ID: 2, Age: 20, Gender: female, Social Contacts: 500\n",
            "ID: 3, Age: 21, Gender: male, Social Contacts: 800\n",
            "ID: 4, Age: 25, Gender: female, Social Contacts: 700\n"
          ]
        }
      ],
      "source": [
        "from typing import List\n",
        "from typing import Iterator\n",
        "\n",
        "Users = [\n",
        "    User(id=0, age=10, gender='male', social_contacts=20),\n",
        "    User(id=1, age=15, gender='female', social_contacts=240),\n",
        "    User(id=2, age=20, gender='female', social_contacts=500),\n",
        "    User(id=3, age=21, gender='male', social_contacts=800),\n",
        "    User(id=4, age=25, gender='female', social_contacts=700),\n",
        "    User(id=5, age=33, gender='male', social_contacts=280),\n",
        "    User(id=6, age=46, gender='male', social_contacts=150),\n",
        "    User(id=7, age=17, gender='female', social_contacts=300),\n",
        "]\n",
        "\n",
        "def MAP(key, value):\n",
        "    if value.social_contacts > 300:\n",
        "      yield (value, value)\n",
        "\n",
        "def REDUCE(*args):\n",
        "    yield args\n",
        "\n",
        "def RECORDREADER():\n",
        "    return [(user.id, user) for user in Users]\n",
        "\n",
        "output = [x[0] for x in sorted(MapReduce(RECORDREADER, MAP, REDUCE))]\n",
        "\n",
        "for user in output:\n",
        "    print(f\"ID: {user.id}, Age: {user.age}, Gender: {user.gender}, Social Contacts: {user.social_contacts}\")"
      ]
    },
    {
      "cell_type": "markdown",
      "metadata": {
        "id": "w27Ca-_Ku85V"
      },
      "source": [
        "### Projection (Проекция)\n",
        "\n",
        "Проекция на множество атрибутов $S$.\n",
        "\n",
        "**The Map Function:** Для каждого кортежа $t \\in R$ создайте кортеж $t′$, исключая  из $t$ те значения, атрибуты которых не принадлежат  $S$. Верните пару $(t′, t′)$.\n",
        "\n",
        "**The Reduce Function:** Для каждого ключа $t′$, созданного любой Map задачей, вы получаете одну или несколько пар $(t′, t′)$. Reduce функция преобразует $(t′, [t′, t′, . . . , t′])$ в $(t′, t′)$, так, что для ключа $t′$ возвращается одна пара  $(t′, t′)$."
      ]
    },
    {
      "cell_type": "code",
      "execution_count": 276,
      "metadata": {
        "colab": {
          "base_uri": "https://localhost:8080/"
        },
        "id": "BEvuY4GqvhS6",
        "outputId": "4a7a2375-1729-4e60-d660-dc4b83bb80d6"
      },
      "outputs": [
        {
          "output_type": "execute_result",
          "data": {
            "text/plain": [
              "[(UserProjection(id=0, social_contacts=20),\n",
              "  UserProjection(id=0, social_contacts=20)),\n",
              " (UserProjection(id=1, social_contacts=240),\n",
              "  UserProjection(id=1, social_contacts=240)),\n",
              " (UserProjection(id=2, social_contacts=500),\n",
              "  UserProjection(id=2, social_contacts=500)),\n",
              " (UserProjection(id=3, social_contacts=800),\n",
              "  UserProjection(id=3, social_contacts=800)),\n",
              " (UserProjection(id=4, social_contacts=700),\n",
              "  UserProjection(id=4, social_contacts=700))]"
            ]
          },
          "metadata": {},
          "execution_count": 276
        }
      ],
      "source": [
        "class UserProjection(NamedTuple):\n",
        "  id: int\n",
        "  social_contacts: int\n",
        "\n",
        "Users = [\n",
        "    User(id=0, age=10, gender='male', social_contacts=20),\n",
        "    User(id=1, age=15, gender='female', social_contacts=240),\n",
        "    User(id=2, age=20, gender='female', social_contacts=500),\n",
        "    User(id=3, age=21, gender='male', social_contacts=800),\n",
        "    User(id=4, age=25, gender='female', social_contacts=700),\n",
        "]\n",
        "\n",
        "def MAP(key, value):\n",
        "    user_proj = UserProjection(id=value.id, social_contacts=value.social_contacts)\n",
        "    yield (user_proj, user_proj)\n",
        "\n",
        "def REDUCE(key, rows):\n",
        "  yield (key, key)\n",
        "\n",
        "def RECORDREADER():\n",
        "  return [(user.id, user) for user in Users]\n",
        "\n",
        "output = list(sorted(MapReduce(RECORDREADER, MAP, REDUCE)))\n",
        "output"
      ]
    },
    {
      "cell_type": "markdown",
      "metadata": {
        "id": "7gau6lKXvn2R"
      },
      "source": [
        "### Union (Объединение)\n",
        "\n",
        "**The Map Function:** Превратите каждый входной кортеж $t$ в пару ключ-значение $(t, t)$.\n",
        "\n",
        "**The Reduce Function:** С каждым ключом $t$ будет ассоциировано одно или два значений. В обоих случаях создайте $(t, t)$ в качестве выходного значения."
      ]
    },
    {
      "cell_type": "code",
      "execution_count": 277,
      "metadata": {
        "colab": {
          "base_uri": "https://localhost:8080/"
        },
        "id": "Sns7a5agv3nw",
        "outputId": "2395e17b-c32f-4bef-9429-28c0e3f31e41"
      },
      "outputs": [
        {
          "output_type": "execute_result",
          "data": {
            "text/plain": [
              "[(User(id=0, age=10, social_contacts=20, gender='male'),\n",
              "  User(id=0, age=10, social_contacts=20, gender='male')),\n",
              " (User(id=1, age=15, social_contacts=240, gender='female'),\n",
              "  User(id=1, age=15, social_contacts=240, gender='female')),\n",
              " (User(id=2, age=20, social_contacts=500, gender='female'),\n",
              "  User(id=2, age=20, social_contacts=500, gender='female')),\n",
              " (User(id=3, age=21, social_contacts=800, gender='male'),\n",
              "  User(id=3, age=21, social_contacts=800, gender='male')),\n",
              " (User(id=4, age=25, social_contacts=700, gender='female'),\n",
              "  User(id=4, age=25, social_contacts=700, gender='female')),\n",
              " (User(id=5, age=33, social_contacts=280, gender='male'),\n",
              "  User(id=5, age=33, social_contacts=280, gender='male')),\n",
              " (User(id=6, age=16, social_contacts=420, gender='male'),\n",
              "  User(id=6, age=16, social_contacts=420, gender='male')),\n",
              " (User(id=6, age=46, social_contacts=150, gender='male'),\n",
              "  User(id=6, age=46, social_contacts=150, gender='male')),\n",
              " (User(id=7, age=17, social_contacts=300, gender='female'),\n",
              "  User(id=7, age=17, social_contacts=300, gender='female')),\n",
              " (User(id=10, age=27, social_contacts=467, gender='male'),\n",
              "  User(id=10, age=27, social_contacts=467, gender='male')),\n",
              " (User(id=11, age=43, social_contacts=200, gender='female'),\n",
              "  User(id=11, age=43, social_contacts=200, gender='female'))]"
            ]
          },
          "metadata": {},
          "execution_count": 277
        }
      ],
      "source": [
        "from typing import List\n",
        "from typing import Iterator\n",
        "\n",
        "Users_one = [\n",
        "    User(id=0, age=10, gender='male', social_contacts=20),\n",
        "    User(id=1, age=15, gender='female', social_contacts=240),\n",
        "    User(id=2, age=20, gender='female', social_contacts=500),\n",
        "    User(id=3, age=21, gender='male', social_contacts=800),\n",
        "    User(id=4, age=25, gender='female', social_contacts=700),\n",
        "    User(id=5, age=33, gender='male', social_contacts=280),\n",
        "    User(id=6, age=46, gender='male', social_contacts=150),\n",
        "    User(id=7, age=17, gender='female', social_contacts=300),\n",
        "]\n",
        "\n",
        "Users_two = [\n",
        "    User(id=6, age=16, gender='male', social_contacts=420),\n",
        "    User(id=10, age=27, gender='male', social_contacts=467),\n",
        "    User(id=11, age=43, gender='female', social_contacts=200),\n",
        "]\n",
        "\n",
        "def MAP(key, value):\n",
        "  yield (value, value)\n",
        "\n",
        "def REDUCE(key, rows):\n",
        "  yield (key, key)\n",
        "\n",
        "def RECORDREADER():\n",
        "  return [(user.id, user) for user in Users_one + Users_two]\n",
        "\n",
        "output = list(sorted(MapReduce(RECORDREADER, MAP, REDUCE)))\n",
        "output"
      ]
    },
    {
      "cell_type": "markdown",
      "metadata": {
        "id": "dQ8TuEbjv4J8"
      },
      "source": [
        "### Intersection (Пересечение)\n",
        "\n",
        "**The Map Function:** Превратите каждый кортеж $t$ в пары ключ-значение $(t, t)$.\n",
        "\n",
        "**The Reduce Function:** Если для ключа $t$ есть список из двух элементов $[t, t]$ $-$ создайте пару $(t, t)$. Иначе, ничего не создавайте."
      ]
    },
    {
      "cell_type": "code",
      "execution_count": 279,
      "metadata": {
        "colab": {
          "base_uri": "https://localhost:8080/"
        },
        "id": "XKlBZh4IwERR",
        "outputId": "67368f19-fc92-4e70-b498-0a20611bff89"
      },
      "outputs": [
        {
          "output_type": "execute_result",
          "data": {
            "text/plain": [
              "[(User(id=4, age=25, social_contacts=700, gender='female'),\n",
              "  User(id=4, age=25, social_contacts=700, gender='female')),\n",
              " (User(id=7, age=17, social_contacts=300, gender='female'),\n",
              "  User(id=7, age=17, social_contacts=300, gender='female'))]"
            ]
          },
          "metadata": {},
          "execution_count": 279
        }
      ],
      "source": [
        "from typing import List\n",
        "from typing import Iterator\n",
        "\n",
        "Users_one = [\n",
        "    User(id=0, age=10, gender='male', social_contacts=20),\n",
        "    User(id=1, age=15, gender='female', social_contacts=240),\n",
        "    User(id=2, age=20, gender='female', social_contacts=500),\n",
        "    User(id=3, age=21, gender='male', social_contacts=800),\n",
        "    User(id=4, age=25, gender='female', social_contacts=700),\n",
        "    User(id=5, age=33, gender='male', social_contacts=280),\n",
        "    User(id=6, age=46, gender='male', social_contacts=150),\n",
        "    User(id=7, age=17, gender='female', social_contacts=300),\n",
        "]\n",
        "\n",
        "Users_two = [\n",
        "    User(id=4, age=25, gender='female', social_contacts=700),\n",
        "    User(id=7, age=17, gender='female', social_contacts=300),\n",
        "    User(id=11, age=43, gender='female', social_contacts=200),\n",
        "]\n",
        "\n",
        "def MAP(key, value):\n",
        "  yield (value, value)\n",
        "\n",
        "def REDUCE(key, rows):\n",
        "  if len(rows) > 1:\n",
        "    yield (key, key)\n",
        "\n",
        "def RECORDREADER():\n",
        "  return [(user.id, user) for user in Users_one + Users_two]\n",
        "\n",
        "output = list(sorted(MapReduce(RECORDREADER, MAP, REDUCE)))\n",
        "output"
      ]
    },
    {
      "cell_type": "markdown",
      "metadata": {
        "id": "AVOpqoY3wE5k"
      },
      "source": [
        "### Difference (Разница)\n",
        "\n",
        "**The Map Function:** Для кортежа $t \\in R$, создайте пару $(t, R)$, и для кортежа $t \\in S$, создайте пару $(t, S)$. Задумка заключается в том, чтобы значение пары было именем отношения $R$ or $S$, которому принадлежит кортеж (а лучше, единичный бит, по которому можно два отношения различить $R$ or $S$), а не весь набор атрибутов отношения.\n",
        "\n",
        "**The Reduce Function:** Для каждого ключа $t$, если соответствующее значение является списком $[R]$, создайте пару $(t, t)$. В иных случаях не предпринимайте действий."
      ]
    },
    {
      "cell_type": "code",
      "execution_count": 281,
      "metadata": {
        "colab": {
          "base_uri": "https://localhost:8080/"
        },
        "id": "QE_AC09lwZIZ",
        "outputId": "a8f814e4-8d63-4127-f7d6-a0e22c5bc7f6"
      },
      "outputs": [
        {
          "output_type": "execute_result",
          "data": {
            "text/plain": [
              "[(User(id=0, age=10, social_contacts=20, gender='male'),\n",
              "  User(id=0, age=10, social_contacts=20, gender='male')),\n",
              " (User(id=1, age=15, social_contacts=240, gender='female'),\n",
              "  User(id=1, age=15, social_contacts=240, gender='female')),\n",
              " (User(id=2, age=20, social_contacts=500, gender='female'),\n",
              "  User(id=2, age=20, social_contacts=500, gender='female')),\n",
              " (User(id=3, age=21, social_contacts=800, gender='male'),\n",
              "  User(id=3, age=21, social_contacts=800, gender='male')),\n",
              " (User(id=5, age=33, social_contacts=280, gender='male'),\n",
              "  User(id=5, age=33, social_contacts=280, gender='male')),\n",
              " (User(id=6, age=46, social_contacts=150, gender='male'),\n",
              "  User(id=6, age=46, social_contacts=150, gender='male'))]"
            ]
          },
          "metadata": {},
          "execution_count": 281
        }
      ],
      "source": [
        "from typing import List\n",
        "from typing import Iterator\n",
        "\n",
        "Users_one = [\n",
        "    User(id=0, age=10, gender='male', social_contacts=20),\n",
        "    User(id=1, age=15, gender='female', social_contacts=240),\n",
        "    User(id=2, age=20, gender='female', social_contacts=500),\n",
        "    User(id=3, age=21, gender='male', social_contacts=800),\n",
        "    User(id=4, age=25, gender='female', social_contacts=700),\n",
        "    User(id=5, age=33, gender='male', social_contacts=280),\n",
        "    User(id=6, age=46, gender='male', social_contacts=150),\n",
        "    User(id=7, age=17, gender='female', social_contacts=300),\n",
        "]\n",
        "\n",
        "Users_two = [\n",
        "    User(id=4, age=25, gender='female', social_contacts=700),\n",
        "    User(id=7, age=17, gender='female', social_contacts=300),\n",
        "    User(id=11, age=43, gender='female', social_contacts=200),\n",
        "]\n",
        "\n",
        "def MAP(key, value):\n",
        "    if value in Users_one:\n",
        "        yield (value, 0)\n",
        "    elif value in Users_two:\n",
        "        yield (value, 1)\n",
        "\n",
        "def REDUCE(key, rows):\n",
        "  if (rows == [0]):\n",
        "    yield (key, key)\n",
        "\n",
        "def RECORDREADER():\n",
        "  return [(user.id, user) for user in Users_one + Users_two]\n",
        "\n",
        "output = list(sorted(MapReduce(RECORDREADER, MAP, REDUCE)))\n",
        "output"
      ]
    },
    {
      "cell_type": "markdown",
      "metadata": {
        "id": "j8I58V2VwhSm"
      },
      "source": [
        "### Natural Join\n",
        "\n",
        "**The Map Function:** Для каждого кортежа $(a, b)$ отношения $R$, создайте пару $(b,(R, a))$. Для каждого кортежа $(b, c)$ отношения $S$, создайте пару $(b,(S, c))$.\n",
        "\n",
        "**The Reduce Function:** Каждый ключ $b$ будет асоциирован со списком пар, которые принимают форму либо $(R, a)$, либо $(S, c)$. Создайте все пары, одни, состоящие из  первого компонента $R$, а другие, из первого компонента $S$, то есть $(R, a)$ и $(S, c)$. На выходе вы получаете последовательность пар ключ-значение из списков ключей и значений. Ключ не нужен. Каждое значение, это тройка $(a, b, c)$ такая, что $(R, a)$ и $(S, c)$ это принадлежат входному списку значений."
      ]
    },
    {
      "cell_type": "code",
      "execution_count": 291,
      "metadata": {
        "colab": {
          "base_uri": "https://localhost:8080/"
        },
        "id": "yHiuuTctw86I",
        "outputId": "3784a505-3455-429b-a9a0-d62e37f2aa9f"
      },
      "outputs": [
        {
          "output_type": "stream",
          "name": "stdout",
          "text": [
            "('Finance', EmployeeDepartment(id=5, name='Scott', department_name='Finance', manager_name='Lisabeth'))\n",
            "('HR', EmployeeDepartment(id=4, name='Ray', department_name='HR', manager_name='Adam'))\n",
            "('IT', EmployeeDepartment(id=1, name='Milly', department_name='IT', manager_name='Harry'))\n",
            "('IT', EmployeeDepartment(id=2, name='Anna', department_name='IT', manager_name='Harry'))\n",
            "('Marketing', EmployeeDepartment(id=6, name='George', department_name='Marketing', manager_name='Gram'))\n",
            "('PR', EmployeeDepartment(id=3, name='Jessi', department_name='PR', manager_name='Jake'))\n"
          ]
        }
      ],
      "source": [
        "from itertools import product\n",
        "\n",
        "class Department(NamedTuple):\n",
        "  department_name: str\n",
        "  manager_name: str\n",
        "\n",
        "class PartialDepartment(NamedTuple):\n",
        "  manager_name: str\n",
        "\n",
        "class Employee(NamedTuple):\n",
        "  id: int\n",
        "  name: str\n",
        "  department_name: str\n",
        "\n",
        "class PartialEmployee(NamedTuple):\n",
        "  id: int\n",
        "  name: str\n",
        "\n",
        "class EmployeeDepartment(NamedTuple):\n",
        "  id: int\n",
        "  name: str\n",
        "  department_name: str\n",
        "  manager_name: str\n",
        "\n",
        "department_collection = [\n",
        "    Department(department_name=\"IT\", manager_name=\"Harry\"),\n",
        "    Department(department_name=\"PR\", manager_name=\"Jake\"),\n",
        "    Department(department_name=\"HR\", manager_name=\"Adam\"),\n",
        "    Department(department_name=\"Finance\", manager_name=\"Lisabeth\"),\n",
        "    Department(department_name=\"Marketing\", manager_name=\"Gram\")\n",
        "]\n",
        "\n",
        "employee_collection = [\n",
        "   Employee(id=1, name=\"Milly\", department_name=\"IT\"),\n",
        "   Employee(id=2, name=\"Anna\", department_name=\"IT\"),\n",
        "   Employee(id=3, name=\"Jessi\", department_name=\"PR\"),\n",
        "   Employee(id=4, name=\"Ray\", department_name=\"HR\"),\n",
        "   Employee(id=5, name=\"Scott\", department_name=\"Finance\"),\n",
        "   Employee(id=6, name=\"George\", department_name=\"Marketing\"),\n",
        "]\n",
        "\n",
        "def MAP(key, value):\n",
        "  if value in employee_collection:\n",
        "    yield (value.department_name, (0, PartialEmployee(id=value.id, name=value.name)))\n",
        "  elif value in department_collection:\n",
        "    yield (value.department_name, (1, PartialDepartment(manager_name=value.manager_name)))\n",
        "\n",
        "def REDUCE(key, rows):\n",
        "    for i, j in product(range(len(rows)), repeat=2):\n",
        "        if rows[i][0] == 1 and rows[j][0] == 0:\n",
        "            yield (key, EmployeeDepartment(id=rows[j][1].id, name=rows[j][1].name, department_name=key, manager_name=rows[i][1].manager_name))\n",
        "\n",
        "def RECORDREADER():\n",
        "  return [(index, u) for index, u in enumerate(department_collection + employee_collection)]\n",
        "\n",
        "output = list(sorted(MapReduce(RECORDREADER, MAP, REDUCE)))\n",
        "for result in output:\n",
        "    print(result)"
      ]
    },
    {
      "cell_type": "markdown",
      "metadata": {
        "id": "kYdlr0YUxE27"
      },
      "source": [
        "### Grouping and Aggregation (Группировка и аггрегация)\n",
        "\n",
        "**The Map Function:** Для каждого кортежа $(a, b, c$) создайте пару $(a, b)$.\n",
        "\n",
        "**The Reduce Function:** Ключ представляет ту или иную группу. Примение аггрегирующую операцию $\\theta$ к списку значений $[b1, b2, . . . , bn]$ ассоциированных с ключом $a$. Возвращайте в выходной поток $(a, x)$, где $x$ результат применения  $\\theta$ к списку. Например, если $\\theta$ это $SUM$, тогда $x = b1 + b2 + · · · + bn$, а если $\\theta$ is $MAX$, тогда $x$ это максимальное из значений $b1, b2, . . . , bn$."
      ]
    },
    {
      "cell_type": "code",
      "execution_count": 294,
      "metadata": {
        "colab": {
          "base_uri": "https://localhost:8080/"
        },
        "id": "MLPckfEGxico",
        "outputId": "3840a419-3c7c-4a3e-a8e9-964902af2702"
      },
      "outputs": [
        {
          "output_type": "execute_result",
          "data": {
            "text/plain": [
              "[('Beer', 325.0), ('Juice', 125.0), ('Wine', 1000.0)]"
            ]
          },
          "metadata": {},
          "execution_count": 294
        }
      ],
      "source": [
        "class Drink(NamedTuple):\n",
        "  id: int\n",
        "  drink_type: str\n",
        "  price: int\n",
        "\n",
        "drink_collection = [\n",
        "    Drink(id=1, drink_type=\"Juice\", price=100),\n",
        "    Drink(id=2, drink_type=\"Wine\", price=1000),\n",
        "    Drink(id=3, drink_type=\"Beer\", price=250),\n",
        "    Drink(id=4, drink_type=\"Beer\", price=400),\n",
        "    Drink(id=5, drink_type=\"Juice\", price=150)\n",
        "]\n",
        "\n",
        "def MAP(key, value):\n",
        "  yield (value.drink_type, value.price)\n",
        "\n",
        "def REDUCE(key, rows):\n",
        "  yield (key, sum(rows) / len(rows))\n",
        "\n",
        "def RECORDREADER():\n",
        "  return [(index, u) for index, u in enumerate(drink_collection)]\n",
        "\n",
        "output = list(sorted(MapReduce(RECORDREADER, MAP, REDUCE)))\n",
        "output"
      ]
    },
    {
      "cell_type": "markdown",
      "metadata": {
        "id": "IIrRgvG4RIS4"
      },
      "source": [
        "### Matrix-Vector multiplication\n",
        "\n",
        "Случай, когда вектор не помещается в памяти Map задачи\n"
      ]
    },
    {
      "cell_type": "code",
      "execution_count": 306,
      "metadata": {
        "colab": {
          "base_uri": "https://localhost:8080/"
        },
        "id": "KQhDbiL3zS9r",
        "outputId": "f398adbd-c42f-43d4-ef2c-ab8982971ac7"
      },
      "outputs": [
        {
          "output_type": "stream",
          "name": "stdout",
          "text": [
            "[array([[1., 1.],\n",
            "       [1., 1.],\n",
            "       [1., 1.],\n",
            "       [1., 1.],\n",
            "       [1., 1.]]), array([[1., 1.],\n",
            "       [1., 1.],\n",
            "       [1., 1.],\n",
            "       [1., 1.],\n",
            "       [1., 1.]])]\n",
            "\n",
            " [array([0.79729031, 0.06977595]), array([0.05641479, 0.48422776])]\n",
            "0 [0.7972903099022649, 0.06977594873355197, 0.05641479016106987, 0.4842277635392963]\n",
            "1 [0.7972903099022649, 0.06977594873355197, 0.05641479016106987, 0.4842277635392963]\n",
            "2 [0.7972903099022649, 0.06977594873355197, 0.05641479016106987, 0.4842277635392963]\n",
            "3 [0.7972903099022649, 0.06977594873355197, 0.05641479016106987, 0.4842277635392963]\n",
            "4 [0.7972903099022649, 0.06977594873355197, 0.05641479016106987, 0.4842277635392963]\n",
            "\n",
            "\n",
            "(0, 1.4077088123361832)\n",
            "(1, 1.4077088123361832)\n",
            "(2, 1.4077088123361832)\n",
            "(3, 1.4077088123361832)\n",
            "(4, 1.4077088123361832)\n"
          ]
        }
      ],
      "source": [
        "from typing import List\n",
        "from typing import Iterator\n",
        "import numpy as np\n",
        "\n",
        "ROWS = 5\n",
        "COLS = 4\n",
        "STRIPES = 2\n",
        "\n",
        "COLS_IN_STRIPE = COLS // STRIPES\n",
        "M = [np.ones((ROWS, COLS_IN_STRIPE)) for i in range(STRIPES)]\n",
        "v = [np.random.rand(COLS_IN_STRIPE) for i in range(STRIPES)]\n",
        "\n",
        "def MAP(coordinates: Tuple[int, int], value: int):\n",
        "  i, j = coordinates\n",
        "  yield (i, value * vec[j])\n",
        "\n",
        "def REDUCE(i: int, products: Iterator[NamedTuple]):\n",
        "  print(i, products)\n",
        "  sum = 0\n",
        "  for p in products:\n",
        "    sum += p\n",
        "  yield (i, sum)\n",
        "\n",
        "def RECORDREADER():\n",
        "  global vec\n",
        "  for stripe_index, stripe in enumerate(M):\n",
        "    vec = v[stripe_index]\n",
        "    for i in range(stripe.shape[0]):\n",
        "      for j in range(stripe.shape[1]):\n",
        "        yield ((i, j), stripe[i, j])\n",
        "\n",
        "print(M)\n",
        "print(\"\\n\",v)\n",
        "output = list(MapReduce(RECORDREADER, MAP, REDUCE))\n",
        "print(\"\\n\")\n",
        "for result in output:\n",
        "    print(result)"
      ]
    },
    {
      "cell_type": "markdown",
      "metadata": {
        "id": "GIo2t7nNxvA9"
      },
      "source": [
        "## Matrix multiplication (Перемножение матриц)\n",
        "\n",
        "Если у нас есть матрица $M$ с элементами $m_{ij}$ в строке $i$ и столбце $j$, и матрица $N$ с элементами $n_{jk}$ в строке $j$ и столбце $k$, тогда их произведение $P = MN$ есть матрица $P$ с элементами $p_{ik}$ в строке $i$ и столбце $k$, где\n",
        "\n",
        "$$p_{ik} =\\sum_{j} m_{ij}n_{jk}$$\n",
        "\n",
        "Необходимым требованием является одинаковое количество столбцов в $M$ и строк в $N$, чтобы операция суммирования по  $j$ была осмысленной. Мы можем размышлять о матрице, как об отношении с тремя атрибутами: номер строки, номер столбца, само значение. Таким образом матрица $M$ предстваляется как отношение $ M(I, J, V )$, с кортежами $(i, j, m_{ij})$, и, аналогично, матрица $N$ представляется как отношение $N(J, K, W)$, с кортежами $(j, k, n_{jk})$. Так как большие матрицы как правило разреженные (большинство значений равно 0), и так как мы можем нулевыми значениями пренебречь (не хранить), такое реляционное представление достаточно эффективно для больших матриц. Однако, возможно, что координаты $i$, $j$, и $k$ неявно закодированы в смещение позиции элемента относительно начала файла, вместо явного хранения. Тогда, функция Map (или Reader) должна быть разработана таким образом, чтобы реконструировать компоненты $I$, $J$, и $K$ кортежей из смещения.\n",
        "\n",
        "Произведение $MN$ это фактически join, за которым следуют группировка по ключу и аггрегация. Таким образом join отношений $M(I, J, V )$ и $N(J, K, W)$, имеющих общим только атрибут $J$, создаст кортежи $(i, j, k, v, w)$ из каждого кортежа $(i, j, v) \\in M$ и кортежа $(j, k, w) \\in N$. Такой 5 компонентный кортеж представляет пару элементов матрицы $(m_{ij} , n_{jk})$. Что нам хотелось бы получить на самом деле, это произведение этих элементов, то есть, 4 компонентный кортеж$(i, j, k, v \\times w)$, так как он представляет произведение $m_{ij}n_{jk}$. Мы представляем отношение как результат одной MapReduce операции, в которой мы можем произвести группировку и аггрегацию, с $I$ и $K$  атрибутами, по которым идёт группировка, и суммой  $V \\times W$.\n",
        "\n",
        "\n",
        "\n"
      ]
    },
    {
      "cell_type": "code",
      "execution_count": 252,
      "metadata": {
        "id": "1MBkGaLAYVCt"
      },
      "outputs": [],
      "source": [
        "# MapReduce model\n",
        "def flatten(nested_iterable):\n",
        "  for iterable in nested_iterable:\n",
        "    for element in iterable:\n",
        "      yield element\n",
        "\n",
        "def groupbykey(iterable):\n",
        "  t = {}\n",
        "  for (k2, v2) in iterable:\n",
        "    t[k2] = t.get(k2, []) + [v2]\n",
        "  return t.items()\n",
        "\n",
        "def MapReduce(RECORDREADER, MAP, REDUCE):\n",
        "  return flatten(map(lambda x: REDUCE(*x), groupbykey(flatten(map(lambda x: MAP(*x), RECORDREADER())))))"
      ]
    },
    {
      "cell_type": "markdown",
      "metadata": {
        "id": "sMspsOT0ZB35"
      },
      "source": [
        "Реализуйте перемножение матриц с использованием модельного кода MapReduce для одной машины в случае, когда одна матрица хранится в памяти, а другая генерируется RECORDREADER-ом."
      ]
    },
    {
      "cell_type": "code",
      "execution_count": 253,
      "metadata": {
        "id": "psP1XekbsEjS"
      },
      "outputs": [],
      "source": [
        "import numpy as np\n",
        "I = 2\n",
        "J = 3\n",
        "K = 4*10\n",
        "small_mat = np.random.rand(I,J) # it is legal to access this from RECORDREADER, MAP, REDUCE\n",
        "big_mat = np.random.rand(J,K)\n",
        "\n",
        "def RECORDREADER():\n",
        "  for j in range(big_mat.shape[0]):\n",
        "    for k in range(big_mat.shape[1]):\n",
        "      yield ((j,k), big_mat[j,k])\n",
        "\n",
        "def MAP(k1, v1):\n",
        "  (j, k) = k1\n",
        "  w = v1\n",
        "  for i in range(I):\n",
        "    yield ((i, k), small_mat[i, j] * w)\n",
        "\n",
        "def REDUCE(key, values):\n",
        "  (i, k) = key\n",
        "  yield ((i, k), sum(values))"
      ]
    },
    {
      "cell_type": "markdown",
      "metadata": {
        "id": "rnt306LHhHrm"
      },
      "source": [
        "Проверьте своё решение"
      ]
    },
    {
      "cell_type": "code",
      "execution_count": 254,
      "metadata": {
        "colab": {
          "base_uri": "https://localhost:8080/"
        },
        "id": "Ewy_ZNYqW5a2",
        "outputId": "fd5192ba-08a3-474d-e0ae-d61a5934efe4"
      },
      "outputs": [
        {
          "output_type": "execute_result",
          "data": {
            "text/plain": [
              "True"
            ]
          },
          "metadata": {},
          "execution_count": 254
        }
      ],
      "source": [
        "# CHECK THE SOLUTION\n",
        "reference_solution = np.matmul(small_mat, big_mat)\n",
        "solution = MapReduce(RECORDREADER, MAP, REDUCE)\n",
        "\n",
        "def asmatrix(reduce_output):\n",
        "  reduce_output = list(reduce_output)\n",
        "  I = max(i for ((i,k), vw) in reduce_output)+1\n",
        "  K = max(k for ((i,k), vw) in reduce_output)+1\n",
        "  mat = np.empty(shape=(I,K))\n",
        "  for ((i,k), vw) in reduce_output:\n",
        "    mat[i,k] = vw\n",
        "  return mat\n",
        "\n",
        "np.allclose(reference_solution, asmatrix(solution)) # should return true"
      ]
    },
    {
      "cell_type": "code",
      "execution_count": 255,
      "metadata": {
        "colab": {
          "base_uri": "https://localhost:8080/"
        },
        "id": "TK7v4CEcfxqf",
        "outputId": "f8629208-8367-44e9-b172-69909afa3c52"
      },
      "outputs": [
        {
          "output_type": "execute_result",
          "data": {
            "text/plain": [
              "1"
            ]
          },
          "metadata": {},
          "execution_count": 255
        }
      ],
      "source": [
        "reduce_output = list(MapReduce(RECORDREADER, MAP, REDUCE))\n",
        "max(i for ((i,k), vw) in reduce_output)"
      ]
    },
    {
      "cell_type": "markdown",
      "metadata": {
        "id": "i4yyg3kOZqJJ"
      },
      "source": [
        "Реализуйте перемножение матриц  с использованием модельного кода MapReduce для одной машины в случае, когда обе матрицы генерируются в RECORDREADER. Например, сначала одна, а потом другая."
      ]
    },
    {
      "cell_type": "code",
      "execution_count": 309,
      "metadata": {
        "colab": {
          "base_uri": "https://localhost:8080/"
        },
        "id": "3B7rIAJCaHZq",
        "outputId": "2f552308-bdf7-4c43-a27b-019029dded85"
      },
      "outputs": [
        {
          "output_type": "execute_result",
          "data": {
            "text/plain": [
              "True"
            ]
          },
          "metadata": {},
          "execution_count": 309
        }
      ],
      "source": [
        "from typing import List\n",
        "from typing import Iterator\n",
        "import numpy as np\n",
        "\n",
        "I = 2\n",
        "J = 3\n",
        "K = 4 * 10\n",
        "small_mat = np.random.rand(I, J)\n",
        "big_mat = np.random.rand(J, K)\n",
        "\n",
        "def RECORDREADER():\n",
        "\n",
        "  for i in range(I):\n",
        "    for j in range(J):\n",
        "      yield ((0, i, j), small_mat[i, j])\n",
        "\n",
        "  for j in range(J):\n",
        "    for k in range(K):\n",
        "      yield ((1, j, k), big_mat[j, k])\n",
        "\n",
        "def MAP(k1, v1):\n",
        "    matrix_index, row_index, col_index = k1\n",
        "    yield (col_index, (matrix_index, row_index, v1)) if matrix_index == 0 else (row_index, (matrix_index, col_index, v1))\n",
        "\n",
        "def REDUCE(key, values):\n",
        "    first_matrix = {el[1]: el[2] for el in values if el[0] == 0}\n",
        "    second_matrix = {el[1]: el[2] for el in values if el[0] == 1}\n",
        "\n",
        "    for first_index, first_value in first_matrix.items():\n",
        "        for second_index, second_value in second_matrix.items():\n",
        "            yield ((first_index, second_index), first_value * second_value)\n",
        "\n",
        "def MAP_IDENTITY(*args):\n",
        "  yield args\n",
        "\n",
        "def REDUCE_AGREGATE(key, values):\n",
        "  yield (key, sum(values))\n",
        "\n",
        "def GET_RECORDREADER(iterable):\n",
        "  def func():\n",
        "    for el in iterable:\n",
        "      yield el\n",
        "  return func\n",
        "\n",
        "reference_solution = np.matmul(small_mat, big_mat)\n",
        "partial_solution = MapReduce(RECORDREADER, MAP, REDUCE)\n",
        "solution = MapReduce(GET_RECORDREADER(partial_solution), MAP_IDENTITY, REDUCE_AGREGATE)\n",
        "\n",
        "def asmatrix(reduce_output):\n",
        "    reduce_output = list(reduce_output)\n",
        "    I = max(i for ((i, k), vw) in reduce_output) + 1\n",
        "    K = max(k for ((i, k), vw) in reduce_output) + 1\n",
        "    mat = np.zeros((I, K))\n",
        "    for ((i, k), vw) in reduce_output:\n",
        "        mat[i, k] = vw\n",
        "    return mat\n",
        "\n",
        "np.allclose(reference_solution, asmatrix(solution))"
      ]
    },
    {
      "cell_type": "markdown",
      "metadata": {
        "id": "mXyzQi1DaIwo"
      },
      "source": [
        "Реализуйте перемножение матриц с использованием модельного кода MapReduce Distributed, когда каждая матрица генерируется в своём RECORDREADER."
      ]
    },
    {
      "cell_type": "code",
      "execution_count": 312,
      "metadata": {
        "colab": {
          "base_uri": "https://localhost:8080/"
        },
        "id": "TDM_s78Rb5eR",
        "outputId": "94663dd3-05ce-4238-c28d-b54ae6173dcf"
      },
      "outputs": [
        {
          "output_type": "stream",
          "name": "stdout",
          "text": [
            "126 key-value pairs were sent over a network.\n",
            "240 key-value pairs were sent over a network.\n"
          ]
        },
        {
          "output_type": "execute_result",
          "data": {
            "text/plain": [
              "True"
            ]
          },
          "metadata": {},
          "execution_count": 312
        }
      ],
      "source": [
        "from typing import List\n",
        "from typing import Iterator\n",
        "import numpy as np\n",
        "\n",
        "I = 2\n",
        "J = 3\n",
        "K = 4 * 10\n",
        "\n",
        "small_mat = np.random.rand(I, J)\n",
        "big_mat = np.random.rand(J, K)\n",
        "maps = 2\n",
        "reducers = 2\n",
        "\n",
        "def INPUTFORMAT():\n",
        "  def RECORDREADER(index, matrix):\n",
        "    rows, cols = matrix.shape\n",
        "    for i in range(rows):\n",
        "      for j in range(cols):\n",
        "        yield ((index, i, j), matrix[i, j])\n",
        "  yield RECORDREADER(0, small_mat)\n",
        "  yield RECORDREADER(1, big_mat)\n",
        "\n",
        "def MAP(k1, v1):\n",
        "    matrix_index, row_index, col_index = k1\n",
        "    yield (col_index, (matrix_index, row_index, v1)) if matrix_index == 0 else (row_index, (matrix_index, col_index, v1))\n",
        "\n",
        "def REDUCE(key, values):\n",
        "    first_matrix = {el[1]: el[2] for el in values if el[0] == 0}\n",
        "    second_matrix = {el[1]: el[2] for el in values if el[0] == 1}\n",
        "\n",
        "    for first_index, first_value in first_matrix.items():\n",
        "        for second_index, second_value in second_matrix.items():\n",
        "            yield ((first_index, second_index), first_value * second_value)\n",
        "\n",
        "def MAP_IDENTITY(*args):\n",
        "  yield args\n",
        "\n",
        "def REDUCE_AGREGATE(key, values):\n",
        "  yield (key, sum(values))\n",
        "\n",
        "def GET_INPUTFORMAT(iterable):\n",
        "  def func():\n",
        "    for el in iterable:\n",
        "      yield el[1]\n",
        "  return func\n",
        "\n",
        "reference_solution = np.matmul(small_mat, big_mat)\n",
        "partitioned_output = MapReduceDistributed(INPUTFORMAT, MAP, REDUCE, COMBINER=None)\n",
        "partitioned_output = [(partition_id, list(partition)) for (partition_id, partition) in partitioned_output]\n",
        "solution = MapReduceDistributed(GET_INPUTFORMAT(partitioned_output), MAP_IDENTITY, REDUCE_AGREGATE, COMBINER=None)\n",
        "solution = [(partition_id, list(partition)) for (partition_id, partition) in solution]\n",
        "solution_unpacked = []\n",
        "\n",
        "for value in solution:\n",
        "  for v in value[1]:\n",
        "    solution_unpacked.append(v)\n",
        "\n",
        "def asmatrix(reduce_output):\n",
        "    reduce_output = list(reduce_output)\n",
        "    I = max(i for ((i, k), vw) in reduce_output) + 1\n",
        "    K = max(k for ((i, k), vw) in reduce_output) + 1\n",
        "    mat = np.zeros((I, K))\n",
        "    for ((i, k), vw) in reduce_output:\n",
        "        mat[i, k] = vw\n",
        "    return mat\n",
        "\n",
        "np.allclose(reference_solution, asmatrix(solution_unpacked))"
      ]
    },
    {
      "cell_type": "markdown",
      "metadata": {
        "id": "ZuSA2P9Db6UM"
      },
      "source": [
        "Обобщите предыдущее решение на случай, когда каждая матрица генерируется несколькими RECORDREADER-ами, и проверьте его работоспособность. Будет ли работать решение, если RECORDREADER-ы будут генерировать случайное подмножество элементов матрицы?"
      ]
    },
    {
      "cell_type": "code",
      "execution_count": 316,
      "metadata": {
        "colab": {
          "base_uri": "https://localhost:8080/"
        },
        "id": "ehN0FqRDcwU5",
        "outputId": "4d7b4889-fce1-4dc8-ec6c-5ad5d845fa1c"
      },
      "outputs": [
        {
          "output_type": "stream",
          "name": "stdout",
          "text": [
            "18 key-value pairs were sent over a network.\n",
            "24 key-value pairs were sent over a network.\n"
          ]
        },
        {
          "output_type": "execute_result",
          "data": {
            "text/plain": [
              "True"
            ]
          },
          "metadata": {},
          "execution_count": 316
        }
      ],
      "source": [
        "from typing import List\n",
        "from typing import Iterator\n",
        "import numpy as np\n",
        "\n",
        "I = 2\n",
        "J = 3\n",
        "K = 4\n",
        "small_mat = np.random.rand(I, J)\n",
        "big_mat = np.random.rand(J, K)\n",
        "maps = 2\n",
        "reducers = 2\n",
        "\n",
        "def INPUTFORMAT():\n",
        "\n",
        "  def RECORDREADER(index, matrix, shift):\n",
        "    rows, cols = matrix.shape\n",
        "    for i in range(rows):\n",
        "      for j in range(cols):\n",
        "        yield ((index, i + shift, j), matrix[i, j])\n",
        "\n",
        "  split_size = int(np.ceil(len(small_mat) / maps))\n",
        "\n",
        "  for i in range(0, len(small_mat), split_size):\n",
        "    yield RECORDREADER(0, small_mat[i:i + split_size], i)\n",
        "\n",
        "  split_size = int(np.ceil(len(big_mat) / maps))\n",
        "\n",
        "  for i in range(0, len(big_mat), split_size):\n",
        "    yield RECORDREADER(1, big_mat[i:i + split_size], i)\n",
        "\n",
        "def MAP(k1, v1):\n",
        "    matrix_index, row_index, col_index = k1\n",
        "    yield (col_index, (matrix_index, row_index, v1)) if matrix_index == 0 else (row_index, (matrix_index, col_index, v1))\n",
        "\n",
        "def REDUCE(key, values):\n",
        "    first_matrix = {el[1]: el[2] for el in values if el[0] == 0}\n",
        "    second_matrix = {el[1]: el[2] for el in values if el[0] == 1}\n",
        "\n",
        "    for first_index, first_value in first_matrix.items():\n",
        "        for second_index, second_value in second_matrix.items():\n",
        "            yield ((first_index, second_index), first_value * second_value)\n",
        "\n",
        "def MAP_IDENTITY(*args):\n",
        "  yield args\n",
        "\n",
        "def REDUCE_AGREGATE(key, values):\n",
        "  yield (key, sum(values))\n",
        "\n",
        "def GET_INPUTFORMAT(iterable):\n",
        "  def func():\n",
        "    for el in iterable:\n",
        "      yield el[1]\n",
        "  return func\n",
        "\n",
        "reference_solution = np.matmul(small_mat, big_mat)\n",
        "partitioned_output = MapReduceDistributed(INPUTFORMAT, MAP, REDUCE, COMBINER=None)\n",
        "partitioned_output = [(partition_id, list(partition)) for (partition_id, partition) in partitioned_output]\n",
        "solution = MapReduceDistributed(GET_INPUTFORMAT(partitioned_output), MAP_IDENTITY, REDUCE_AGREGATE, COMBINER=None)\n",
        "solution = [(partition_id, list(partition)) for (partition_id, partition) in solution]\n",
        "solution_unpacked = []\n",
        "\n",
        "for value in solution:\n",
        "  for v in value[1]:\n",
        "    solution_unpacked.append(v)\n",
        "\n",
        "def asmatrix(reduce_output):\n",
        "    reduce_output = list(reduce_output)\n",
        "    I = max(i for ((i, k), vw) in reduce_output) + 1\n",
        "    K = max(k for ((i, k), vw) in reduce_output) + 1\n",
        "    mat = np.zeros((I, K))\n",
        "    for ((i, k), vw) in reduce_output:\n",
        "        mat[i, k] = vw\n",
        "    return mat\n",
        "\n",
        "np.allclose(reference_solution, asmatrix(solution_unpacked))"
      ]
    }
  ],
  "metadata": {
    "colab": {
      "provenance": []
    },
    "kernelspec": {
      "display_name": "Python 3",
      "name": "python3"
    }
  },
  "nbformat": 4,
  "nbformat_minor": 0
}