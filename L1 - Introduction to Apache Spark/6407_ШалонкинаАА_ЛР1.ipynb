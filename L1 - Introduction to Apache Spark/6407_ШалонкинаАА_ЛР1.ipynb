{
  "nbformat": 4,
  "nbformat_minor": 0,
  "metadata": {
    "colab": {
      "provenance": []
    },
    "kernelspec": {
      "display_name": "Python 3",
      "language": "python",
      "name": "python3"
    },
    "language_info": {
      "codemirror_mode": {
        "name": "ipython",
        "version": 3
      },
      "file_extension": ".py",
      "mimetype": "text/x-python",
      "name": "python",
      "nbconvert_exporter": "python",
      "pygments_lexer": "ipython3",
      "version": "3.6.5"
    }
  },
  "cells": [
    {
      "cell_type": "code",
      "source": [
        "!apt-get install openjdk-8-jdk-headless -qq > /dev/null\n",
        "!wget -q http://archive.apache.org/dist/spark/spark-3.1.1/spark-3.1.1-bin-hadoop3.2.tgz\n",
        "!tar xf spark-3.1.1-bin-hadoop3.2.tgz"
      ],
      "metadata": {
        "id": "oMUGZXihM-Bn"
      },
      "execution_count": 1,
      "outputs": []
    },
    {
      "cell_type": "code",
      "source": [
        "import os\n",
        "os.environ[\"SPARK_HOME\"] = \"/content/spark-3.1.1-bin-hadoop3.2\"\n",
        "os.environ[\"JAVA_HOME\"] = \"/usr/lib/jvm/java-8-openjdk-amd64\""
      ],
      "metadata": {
        "id": "vfUPRwQwF7xx"
      },
      "execution_count": 2,
      "outputs": []
    },
    {
      "cell_type": "code",
      "source": [
        "!pip install findspark"
      ],
      "metadata": {
        "colab": {
          "base_uri": "https://localhost:8080/"
        },
        "id": "dNsveonvGsod",
        "outputId": "3b90eeb6-d7fd-4db8-c4ac-63a301fce440"
      },
      "execution_count": 3,
      "outputs": [
        {
          "output_type": "stream",
          "name": "stdout",
          "text": [
            "Collecting findspark\n",
            "  Downloading findspark-2.0.1-py2.py3-none-any.whl (4.4 kB)\n",
            "Installing collected packages: findspark\n",
            "Successfully installed findspark-2.0.1\n"
          ]
        }
      ]
    },
    {
      "cell_type": "code",
      "source": [
        "import findspark\n",
        "findspark.init()"
      ],
      "metadata": {
        "id": "FrQKNPr1HMMi"
      },
      "execution_count": 4,
      "outputs": []
    },
    {
      "cell_type": "code",
      "source": [
        "!pip3 install pyspark==3.0.0"
      ],
      "metadata": {
        "colab": {
          "base_uri": "https://localhost:8080/"
        },
        "id": "3ngJ3sL6KKkq",
        "outputId": "22d244db-e3da-4715-a5fd-bc4b6bcf128b"
      },
      "execution_count": 5,
      "outputs": [
        {
          "output_type": "stream",
          "name": "stdout",
          "text": [
            "Collecting pyspark==3.0.0\n",
            "  Downloading pyspark-3.0.0.tar.gz (204.7 MB)\n",
            "\u001b[2K     \u001b[90m━━━━━━━━━━━━━━━━━━━━━━━━━━━━━━━━━━━━━━━━\u001b[0m \u001b[32m204.7/204.7 MB\u001b[0m \u001b[31m4.4 MB/s\u001b[0m eta \u001b[36m0:00:00\u001b[0m\n",
            "\u001b[?25h  Preparing metadata (setup.py) ... \u001b[?25l\u001b[?25hdone\n",
            "Collecting py4j==0.10.9 (from pyspark==3.0.0)\n",
            "  Downloading py4j-0.10.9-py2.py3-none-any.whl (198 kB)\n",
            "\u001b[2K     \u001b[90m━━━━━━━━━━━━━━━━━━━━━━━━━━━━━━━━━━━━━━━━\u001b[0m \u001b[32m198.6/198.6 kB\u001b[0m \u001b[31m15.4 MB/s\u001b[0m eta \u001b[36m0:00:00\u001b[0m\n",
            "\u001b[?25hBuilding wheels for collected packages: pyspark\n",
            "  Building wheel for pyspark (setup.py) ... \u001b[?25l\u001b[?25hdone\n",
            "  Created wheel for pyspark: filename=pyspark-3.0.0-py2.py3-none-any.whl size=205044159 sha256=9df1a1828b3f51b4a4230edc122d117554a7bb1f68a5c4815e7c6416ef8838a7\n",
            "  Stored in directory: /root/.cache/pip/wheels/b1/bb/8b/ca24d3f756f2ed967225b0871898869db676eb5846df5adc56\n",
            "Successfully built pyspark\n",
            "Installing collected packages: py4j, pyspark\n",
            "  Attempting uninstall: py4j\n",
            "    Found existing installation: py4j 0.10.9.7\n",
            "    Uninstalling py4j-0.10.9.7:\n",
            "      Successfully uninstalled py4j-0.10.9.7\n",
            "Successfully installed py4j-0.10.9 pyspark-3.0.0\n"
          ]
        }
      ]
    },
    {
      "cell_type": "markdown",
      "metadata": {
        "id": "iox_ufgbqDXa"
      },
      "source": [
        "<h1><center>Инициализация</center></h1>"
      ]
    },
    {
      "cell_type": "code",
      "source": [
        "from pyspark import SparkContext, SparkConf\n",
        "import pyspark.sql as sql\n",
        "from pyspark.sql import SparkSession\n",
        "from pyspark.sql.types import DoubleType\n",
        "from pyspark.sql.functions import udf, col, max, sum, countDistinct"
      ],
      "metadata": {
        "id": "Q6Mu_GodJPpQ"
      },
      "execution_count": 6,
      "outputs": []
    },
    {
      "cell_type": "code",
      "source": [
        "spark = SparkSession \\\n",
        "    .builder \\\n",
        "    .appName(\"L1_interactive_bike_analysis\") \\\n",
        "    .getOrCreate()"
      ],
      "metadata": {
        "id": "y4FJqAjJLwXX"
      },
      "execution_count": 7,
      "outputs": []
    },
    {
      "cell_type": "markdown",
      "metadata": {
        "id": "FFnYZltvqLgt"
      },
      "source": [
        "<h1><center>Загрузка данных</center></h1>"
      ]
    },
    {
      "cell_type": "code",
      "source": [
        "import os\n",
        "data_path = os.path.join(os.curdir, \"data\")\n",
        "trips_path = os.path.join(\"trips.csv\")\n",
        "stations_path = os.path.join(\"stations.csv\")"
      ],
      "metadata": {
        "id": "iexpAYsaONcP"
      },
      "execution_count": 8,
      "outputs": []
    },
    {
      "cell_type": "code",
      "source": [
        "trips = spark.read \\\n",
        "        .option(\"header\", True) \\\n",
        "        .option(\"inferSchema\", True) \\\n",
        "        .option(\"DateTimeFormat\", 'M/d/y H:m') \\\n",
        "        .csv(trips_path)\n",
        "\n",
        "stat = spark.read \\\n",
        "        .option(\"header\", True) \\\n",
        "        .option(\"inferSchema\", True) \\\n",
        "        .option(\"DateTimeFormat\", 'M/d/y H:m') \\\n",
        "        .csv(stations_path)"
      ],
      "metadata": {
        "id": "QFXiIwh2SxkG"
      },
      "execution_count": 9,
      "outputs": []
    },
    {
      "cell_type": "markdown",
      "metadata": {
        "id": "YR1CO3FTqO5h"
      },
      "source": [
        "<a id='Задачи для данных велопарковок Сан-Франциско (trips.csv, stations.csv):'></a>\n",
        "## Задачи для данных велопарковок Сан-Франциско (trips.csv, stations.csv):\n",
        "><li>Найти велосипед с максимальным временем пробега.\n",
        "><li>Найти наибольшее геодезическое расстояние между станциями.\n",
        "><li>Найти путь велосипеда с максимальным временем пробега через станции.\n",
        "><li>Найти количество велосипедов в системе.\n",
        "><li>Найти пользователей потративших на поездки более 3 часов."
      ]
    },
    {
      "cell_type": "markdown",
      "metadata": {
        "id": "bGbIBPLHqVXc"
      },
      "source": [
        "<h1><center>Найти велосипед с максимальным временем пробега</center></h1>"
      ]
    },
    {
      "cell_type": "code",
      "source": [
        "# Группируем данные по bike_id и считаем общую длительность поездок\n",
        "trip_duration = trips.groupBy(\"bike_id\").agg(sum(col(\"duration\")).alias(\"duration\"))\n",
        "# Проверяем, что trip_duration не пустой\n",
        "if trip_duration.count() > 0:\n",
        "    # Получаем запись с максимальной длительностью поездки\n",
        "    trips_duration = trip_duration.orderBy(col(\"duration\").desc()).first()\n",
        "    bike_id = trips_duration[\"bike_id\"]\n",
        "    duration = trips_duration[\"duration\"]\n",
        "    print(f\"Велосипед {bike_id} с максимальным временем пробега {duration}\")\n",
        "else:\n",
        "    print(\"Нет данных о поездках.\")"
      ],
      "metadata": {
        "colab": {
          "base_uri": "https://localhost:8080/"
        },
        "id": "zYxewyEkuSk8",
        "outputId": "56c67fef-0ee2-439a-8c07-7b74730a4baf"
      },
      "execution_count": 20,
      "outputs": [
        {
          "output_type": "stream",
          "name": "stdout",
          "text": [
            "Велосипед 593 с максимальным временем пробега 1074282\n"
          ]
        }
      ]
    },
    {
      "cell_type": "markdown",
      "source": [
        "<h1><center>Найти наибольшее геодезическое расстояние между станциями</center></h1>"
      ],
      "metadata": {
        "id": "GIY6f_lZXxUN"
      }
    },
    {
      "cell_type": "code",
      "source": [
        "from math import sqrt, radians, sin, cos, atan2\n",
        "\n",
        "# Определение функции для расчета геодезического расстояния между двумя точками\n",
        "def distance(lat1, lon1, lat2, lon2):\n",
        "    # Радиус Земли в км\n",
        "    R = 6373\n",
        "\n",
        "    # Преобразование градусов в радианы\n",
        "    lat1_rad = radians(lat1)\n",
        "    lon1_rad = radians(lon1)\n",
        "    lat2_rad = radians(lat2)\n",
        "    lon2_rad = radians(lon2)\n",
        "\n",
        "    # Разница координат\n",
        "    dlon = lon2_rad - lon1_rad\n",
        "    dlat = lat2_rad - lat1_rad\n",
        "\n",
        "    # Формула Гаверсинуса для расчета расстояния\n",
        "    a = sin(dlat / 2)**2 + cos(lat1_rad) * cos(lat2_rad) * sin(dlon / 2)**2\n",
        "    c = 2 * atan2(sqrt(a), sqrt(1 - a))\n",
        "    distance = R * c\n",
        "\n",
        "    return distance\n",
        "\n",
        "g_dist = udf(distance, DoubleType())\n",
        "\n",
        "station = stat.alias(\"station1\").crossJoin(stat.alias(\"station2\"))\n",
        "\n",
        "# Вычисление геодезических расстояний между всеми парами станций\n",
        "station_distance = station.withColumn(\"geodesic_distance\", g_dist(col(\"station1.lat\"), col(\"station1.long\"), col(\"station2.lat\"), col(\"station2.long\")))\n",
        "\n",
        "# Нахождение максимального геодезического расстояния\n",
        "dist = station_distance.selectExpr(\"max(geodesic_distance) as max_distance\").collect()[0][\"max_distance\"]\n",
        "print(f\"Наибольшее геодезическое расстояние между станциями {dist}\")\n"
      ],
      "metadata": {
        "colab": {
          "base_uri": "https://localhost:8080/"
        },
        "id": "vjkfx77GwaxC",
        "outputId": "898412b0-3fc2-48d6-98be-9ca0231a994e"
      },
      "execution_count": 28,
      "outputs": [
        {
          "output_type": "stream",
          "name": "stdout",
          "text": [
            "Самая длинная поездка из \"University and Emerson\" в \"University and Emerson\" заняла 722236 секунд\n"
          ]
        }
      ]
    },
    {
      "cell_type": "markdown",
      "source": [
        "<h1>Найти путь велосипеда с максимальным временем пробега через станции</h1>"
      ],
      "metadata": {
        "id": "1DW__Qdo8qxp"
      }
    },
    {
      "cell_type": "code",
      "source": [
        "# Сортируем поездки по длительности и выбираем наиболее длительную\n",
        "longest_trip = trips.select(\"start_station_name\", \"end_station_name\", \"duration\").orderBy(col(\"duration\").desc()).first()\n",
        "\n",
        "start_station = longest_trip[\"start_station_name\"]\n",
        "end_station = longest_trip[\"end_station_name\"]\n",
        "trip_duration = longest_trip[\"duration\"]\n",
        "\n",
        "print(f\"Путь из \\\"{start_station}\\\" в \\\"{end_station}\\\" занял максимальное время пробега {trip_duration} секунд\")\n"
      ],
      "metadata": {
        "colab": {
          "base_uri": "https://localhost:8080/"
        },
        "id": "uZaDAUMkxCwi",
        "outputId": "78ff8395-0666-43dc-f7fc-e639a7238005"
      },
      "execution_count": 25,
      "outputs": [
        {
          "output_type": "stream",
          "name": "stdout",
          "text": [
            "Путь из \"University and Emerson\" в \"University and Emerson\" занял максимальное время пробега 722236 секунд\n"
          ]
        }
      ]
    },
    {
      "cell_type": "markdown",
      "source": [
        "<h1><center>Найти количество велосипедов в системе</center></h1>"
      ],
      "metadata": {
        "id": "BgQUldTyC4-5"
      }
    },
    {
      "cell_type": "code",
      "source": [
        "# Группировка по идентификатору велосипеда и подсчет уникальных значений идентификатора\n",
        "count = trips.agg(countDistinct(\"bike_id\").alias(\"bike_count\")).collect()[0][\"bike_count\"]\n",
        "print(f\"Количество велосипедов в системе: {count}\")"
      ],
      "metadata": {
        "colab": {
          "base_uri": "https://localhost:8080/"
        },
        "id": "7leAyi2bC5hp",
        "outputId": "06208980-5d2f-4637-a699-2b5dd86dcf2f"
      },
      "execution_count": 14,
      "outputs": [
        {
          "output_type": "stream",
          "name": "stdout",
          "text": [
            "Количество велосипедов в системе: 698\n"
          ]
        }
      ]
    },
    {
      "cell_type": "markdown",
      "source": [
        "<h1><center>Найти пользователей потративших на поездки более 3 часов</center></h1>"
      ],
      "metadata": {
        "id": "3ueExUFTC6Pm"
      }
    },
    {
      "cell_type": "code",
      "source": [
        "# Группируем поездки по идентификатору велосипеда и считаем общее время поездок\n",
        "bike_trips = trips.groupBy(\"bike_id\").sum(\"duration\").withColumnRenamed(\"sum(duration)\", \"total_duration\")\n",
        "\n",
        "# Фильтруем результаты, чтобы найти велосипеды с общим временем поездок более 10800 секунд (3 часа)\n",
        "long_trips = bike_trips.filter(\"total_duration > 10800\")\n",
        "\n",
        "# Выводим информацию о велосипедах с длительными поездками\n",
        "long_trips.show()"
      ],
      "metadata": {
        "colab": {
          "base_uri": "https://localhost:8080/"
        },
        "id": "9FX025nCyJTn",
        "outputId": "38692992-876d-42a1-95e5-d209ebd73c3c"
      },
      "execution_count": 27,
      "outputs": [
        {
          "output_type": "stream",
          "name": "stdout",
          "text": [
            "+-------+--------------+\n",
            "|bike_id|total_duration|\n",
            "+-------+--------------+\n",
            "|    471|        413707|\n",
            "|    496|        509079|\n",
            "|    148|        196805|\n",
            "|    463|        453005|\n",
            "|    540|        631175|\n",
            "|    392|        532104|\n",
            "|    623|        706208|\n",
            "|    243|        131043|\n",
            "|    516|        532087|\n",
            "|     31|         73874|\n",
            "|    580|        627818|\n",
            "|    137|        260436|\n",
            "|    251|        127062|\n",
            "|    451|        528162|\n",
            "|     85|        109338|\n",
            "|    458|        577151|\n",
            "|     65|         57529|\n",
            "|    588|        266415|\n",
            "|    255|        107686|\n",
            "|     53|         58229|\n",
            "+-------+--------------+\n",
            "only showing top 20 rows\n",
            "\n"
          ]
        }
      ]
    }
  ]
}